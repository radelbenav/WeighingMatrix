{
 "cells": [
  {
   "cell_type": "markdown",
   "id": "262ecde1-24ea-402d-81a1-5bbfb968907c",
   "metadata": {},
   "source": [
    "We demonstrate how to use the package to generate all $IW(n,k)$ up to H-equivalence (with multiplicities)"
   ]
  },
  {
   "cell_type": "code",
   "execution_count": 1,
   "id": "d6e5c1aa-19e7-4cc0-a41f-3c1d4d1d0e84",
   "metadata": {},
   "outputs": [],
   "source": [
    "load('Classification.sage')\n",
    "load('NSOKS.sage')"
   ]
  },
  {
   "cell_type": "code",
   "execution_count": 2,
   "id": "0e8da10b-740f-4a05-bc0b-de99393698d2",
   "metadata": {},
   "outputs": [
    {
     "name": "stdout",
     "output_type": "stream",
     "text": [
      "There are 5 items in the list\n"
     ]
    }
   ],
   "source": [
    "# Let us list the IW(5,9)\n",
    "IWlist59=ExhaustiveListIW(5,9)\n",
    "print(f'There are {len(IWlist59)} items in the list')"
   ]
  },
  {
   "cell_type": "code",
   "execution_count": 3,
   "id": "142d37ab-9c6d-4a2c-9dc3-e89278d3166a",
   "metadata": {},
   "outputs": [
    {
     "name": "stdout",
     "output_type": "stream",
     "text": [
      "There are 3 items in the list\n"
     ]
    }
   ],
   "source": [
    "## By raising 'MinimizeRowLimit' to n=5 we obtain full classification up to H-equivalence\n",
    "IWlist59exact=ExhaustiveListIW(5,9,MinimizeRowLimit=5)\n",
    "print(f'There are {len(IWlist59exact)} items in the list')"
   ]
  },
  {
   "cell_type": "markdown",
   "id": "9b6cdfc5-815f-41ae-8753-d980d0043c50",
   "metadata": {},
   "source": [
    "Here are the full classified list of $IW(5,9)$:"
   ]
  },
  {
   "cell_type": "code",
   "execution_count": 4,
   "id": "37c9ede0-c930-4b06-b076-ddb35772c30e",
   "metadata": {},
   "outputs": [
    {
     "data": {
      "text/html": [
       "<html>\\(\\displaystyle \\left[\\left(\\begin{array}{rrrrr}\n",
       "-3 & 0 & 0 & 0 & 0 \\\\\n",
       "0 & -3 & 0 & 0 & 0 \\\\\n",
       "0 & 0 & -3 & 0 & 0 \\\\\n",
       "0 & 0 & 0 & -3 & 0 \\\\\n",
       "0 & 0 & 0 & 0 & -3\n",
       "\\end{array}\\right), \\left(\\begin{array}{rrrrr}\n",
       "-3 & 0 & 0 & 0 & 0 \\\\\n",
       "0 & -3 & 0 & 0 & 0 \\\\\n",
       "0 & 0 & -2 & -2 & -1 \\\\\n",
       "0 & 0 & -2 & 1 & 2 \\\\\n",
       "0 & 0 & -1 & 2 & -2\n",
       "\\end{array}\\right), \\left(\\begin{array}{rrrrr}\n",
       "-3 & 0 & 0 & 0 & 0 \\\\\n",
       "0 & -2 & -2 & -1 & 0 \\\\\n",
       "0 & -2 & 2 & 0 & -1 \\\\\n",
       "0 & -1 & 0 & 2 & 2 \\\\\n",
       "0 & 0 & -1 & 2 & -2\n",
       "\\end{array}\\right)\\right]\\)</html>"
      ],
      "text/latex": [
       "$\\displaystyle \\left[\\left(\\begin{array}{rrrrr}\n",
       "-3 & 0 & 0 & 0 & 0 \\\\\n",
       "0 & -3 & 0 & 0 & 0 \\\\\n",
       "0 & 0 & -3 & 0 & 0 \\\\\n",
       "0 & 0 & 0 & -3 & 0 \\\\\n",
       "0 & 0 & 0 & 0 & -3\n",
       "\\end{array}\\right), \\left(\\begin{array}{rrrrr}\n",
       "-3 & 0 & 0 & 0 & 0 \\\\\n",
       "0 & -3 & 0 & 0 & 0 \\\\\n",
       "0 & 0 & -2 & -2 & -1 \\\\\n",
       "0 & 0 & -2 & 1 & 2 \\\\\n",
       "0 & 0 & -1 & 2 & -2\n",
       "\\end{array}\\right), \\left(\\begin{array}{rrrrr}\n",
       "-3 & 0 & 0 & 0 & 0 \\\\\n",
       "0 & -2 & -2 & -1 & 0 \\\\\n",
       "0 & -2 & 2 & 0 & -1 \\\\\n",
       "0 & -1 & 0 & 2 & 2 \\\\\n",
       "0 & 0 & -1 & 2 & -2\n",
       "\\end{array}\\right)\\right]$"
      ],
      "text/plain": [
       "[\n",
       "[-3  0  0  0  0]  [-3  0  0  0  0]  [-3  0  0  0  0]\n",
       "[ 0 -3  0  0  0]  [ 0 -3  0  0  0]  [ 0 -2 -2 -1  0]\n",
       "[ 0  0 -3  0  0]  [ 0  0 -2 -2 -1]  [ 0 -2  2  0 -1]\n",
       "[ 0  0  0 -3  0]  [ 0  0 -2  1  2]  [ 0 -1  0  2  2]\n",
       "[ 0  0  0  0 -3], [ 0  0 -1  2 -2], [ 0  0 -1  2 -2]\n",
       "]"
      ]
     },
     "metadata": {},
     "output_type": "display_data"
    }
   ],
   "source": [
    "show(IWlist59exact)"
   ]
  },
  {
   "cell_type": "code",
   "execution_count": 6,
   "id": "526b1ca8-79f4-4de8-80a9-4b9f416116af",
   "metadata": {},
   "outputs": [
    {
     "name": "stdout",
     "output_type": "stream",
     "text": [
      "The process took 143.25491899999997 seconds\n",
      "Found 146 IW(7,25) matrices\n",
      "There are only 44 inequivalent up to TH-equivalence\n"
     ]
    }
   ],
   "source": [
    "t0=cputime()\n",
    "IW725=ExhaustiveListIW(7,25)\n",
    "t1=cputime()\n",
    "print(f'The process took {t1-t0} seconds')\n",
    "print(f'Found {len(IW725)} IW(7,25) matrices')\n",
    "print(f'There are only 44 inequivalent up to TH-equivalence')"
   ]
  },
  {
   "cell_type": "code",
   "execution_count": null,
   "id": "d82c4d4d-0461-48ee-b470-7be881379222",
   "metadata": {},
   "outputs": [],
   "source": []
  },
  {
   "cell_type": "code",
   "execution_count": null,
   "id": "958ed80d-6c02-44c6-b262-f598566d5333",
   "metadata": {},
   "outputs": [],
   "source": []
  },
  {
   "cell_type": "markdown",
   "id": "6a875591-0ce2-40f8-9e45-d2b28cc196ed",
   "metadata": {},
   "source": [
    "NSOKS is very fast. Let's try to represent $317$ as a sum of $50$ squares."
   ]
  },
  {
   "cell_type": "code",
   "execution_count": 11,
   "id": "2aadd49b-272a-415c-9407-577081e4f385",
   "metadata": {},
   "outputs": [
    {
     "name": "stdout",
     "output_type": "stream",
     "text": [
      "This process took 1.2028439999999705 seconds\n",
      "There are 175609 represntations of 317 as a sum of 50 squares\n",
      "Here is one:\n",
      "[(4, 3), (3, 25), (2, 8), (1, 12), (0, 2)]\n"
     ]
    }
   ],
   "source": [
    "t0=cputime()\n",
    "Reps=Nsoks(317,50)\n",
    "t1=cputime()\n",
    "print(f'This process took {t1-t0} seconds')\n",
    "print(f'There are {len(Reps)} represntations of 317 as a sum of 50 squares')\n",
    "print(f'Here is one:')\n",
    "print(Reps[112])"
   ]
  },
  {
   "cell_type": "markdown",
   "id": "9e6500aa-97b5-44ad-92b4-42bdb2963c74",
   "metadata": {},
   "source": [
    "This means that $$3\\cdot4^2+25\\cdot 3^2+8\\cdot 2^2+12\\cdot 1^2+2\\cdot 0^2=317.$$\n",
    "and $$ 3+25+8+12+2=50.$$"
   ]
  }
 ],
 "metadata": {
  "kernelspec": {
   "display_name": "SageMath 10.5",
   "language": "sage",
   "name": "sagemath"
  },
  "language_info": {
   "codemirror_mode": {
    "name": "ipython",
    "version": 3
   },
   "file_extension": ".py",
   "mimetype": "text/x-python",
   "name": "python",
   "nbconvert_exporter": "python",
   "pygments_lexer": "ipython3",
   "version": "3.12.9"
  }
 },
 "nbformat": 4,
 "nbformat_minor": 5
}
